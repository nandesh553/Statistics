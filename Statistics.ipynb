{
 "cells": [
  {
   "cell_type": "markdown",
   "metadata": {},
   "source": [
    "# Central Tendency\n",
    "\n",
    "https://statistics.laerd.com/statistical-guides/measures-central-tendency-mean-mode-median.php\n",
    "\n",
    "In statistics, central tendency is a central value for probability distribution. The most common measures of central tendency are mean, median and mode.\n",
    "\n",
    "## Mean\n",
    "The mean is equal to the sum of all the values in the data set divided by the number of values in the data set. So, the sample mean  is:\n",
    "\n",
    "$$\\bar x = \\frac{x_1+x_2+...+x_n}{n}$$\n",
    "\n",
    "This formula is usually written in a slightly different manner using the Greek capitol letter, $\\sum$ , pronounced \"sigma\", which means \"sum of...\":\n",
    "\n",
    "$$\\bar x = \\frac{\\sum x}{n}$$\n",
    "\n",
    "You may have noticed that the above formula refers to the sample mean. So, why have we called it a sample mean? This is because, in statistics, samples and populations have very different meanings and these differences are very important, even if, in the case of the mean, they are calculated in the same way. To acknowledge that we are calculating the population mean and not the sample mean, we use the Greek lower case letter \"mu\", denoted as $\\mu$:\n",
    "\n",
    "$$\\mu = \\frac{\\sum x}{n}$$\n",
    "\n",
    "The mean is essentially a model of your data set. It is the value that is most common. You will notice, however, that the mean is not often one of the actual values that you have observed in your data set. However, one of its important properties is that it minimises error in the prediction of any one value in your data set. That is, it is the value that produces the lowest amount of error from all other values in the data set.\n",
    "\n",
    "An important property of the mean is that it includes every value in your data set as part of the calculation. In addition, the mean is the only measure of central tendency where the sum of the deviations of each value from the mean is always zero.\n",
    "\n",
    "### When not to use the mean\n",
    "* __Disadvantage__ - It is particularly susceptible to the influence of outliers. These are values that are unusual compared to the rest of the data set by being especially small or large in numerical value.\n",
    "* Another time when we usually prefer the median over the mean (or mode) is when our data is skewed (i.e., the frequency distribution for our data is skewed). \n",
    "\n",
    "If we consider the normal distribution - as this is the most frequently assessed in statistics - when the data is perfectly normal, the mean, median and mode are identical. Moreover, they all represent the most typical value in the data set. However, as the data becomes skewed the mean loses its ability to provide the best central location for the data because the skewed data is dragging it away from the typical value. However, the median best retains this position and is not as strongly influenced by the skewed values. This is explained in more detail in the skewed distribution section later in this guide.\n",
    "\n",
    "## Median\n",
    "\n",
    "The median is the middle score for a set of data that has been arranged in order of magnitude. The median is less affected by outliers and skewed data.\n",
    "\n",
    "<table border=\"1\">\n",
    "<tr>\n",
    "    <td>23</td>\n",
    "    <td>45</td>\n",
    "    <td>56</td>\n",
    "    <td>43</td>\n",
    "    <td>89</td>\n",
    "    <td>12</td>\n",
    "    <td>67</td>\n",
    "</tr>\n",
    "</table>\n",
    "\n",
    "Sort the data in ascending order:\n",
    "<table border=\"1\">\n",
    "<tr>\n",
    "    <td>12</td>\n",
    "    <td>23</td>\n",
    "    <td>43</td>\n",
    "    <td><b>45</b></td>\n",
    "    <td>56</td>\n",
    "    <td>67</td>\n",
    "    <td>89</td>\n",
    "</tr>\n",
    "</table>\n",
    "\n",
    "Median mark is the middle mark - in this case, 45 (highlighted in bold). The median is suppposed to be in center such that any other number will be either greater than or smaller than it.\n",
    "\n",
    "##### If there are even number of scores you simply have to take the middle two scores and average the result.Look at the example below:\n",
    "<table border=\"1\">\n",
    "<tr>\n",
    "    <td>23</td>\n",
    "    <td>45</td>\n",
    "    <td>56</td>\n",
    "    <td>43</td>\n",
    "    <td>89</td>\n",
    "    <td>12</td>\n",
    "    <td>39</td>\n",
    "    <td>67</td>\n",
    "</tr>\n",
    "</table>\n",
    "Rearange them in the ascending order\n",
    "<table border=\"1\">\n",
    "<tr>\n",
    "    <td>12</td>\n",
    "    <td>23</td>\n",
    "    <td>39</td>\n",
    "    <td><b>43</b></td>\n",
    "    <td><b>45</b></td>\n",
    "    <td>56</td>\n",
    "    <td>67</td>\n",
    "    <td>89</td>\n",
    "</tr>\n",
    "</table>\n",
    "\n",
    "Only now we have to take the 4th and 5th score in our data set and average them to get a median of 44.\n",
    "\n",
    "## Mode\n",
    "The mode is the most frequent score in our data set. On a histogram it represents the highest bar in a bar chart or histogram. You can, therefore, sometimes consider the mode as being the most popular option. An example of a mode is presented below\n",
    "\n",
    "* Normally, the mode is used for categorical data where "
   ]
  },
  {
   "cell_type": "code",
   "execution_count": 16,
   "metadata": {},
   "outputs": [],
   "source": [
    "import numpy as np\n",
    "import pandas as pd\n",
    "import seaborn as sns\n",
    "\n",
    "from matplotlib import pyplot as plt\n",
    "sns.set(style=\"darkgrid\")"
   ]
  },
  {
   "cell_type": "code",
   "execution_count": 42,
   "metadata": {},
   "outputs": [
    {
     "data": {
      "text/plain": [
       "<matplotlib.axes._subplots.AxesSubplot at 0x7fcc7cb7f4e0>"
      ]
     },
     "execution_count": 42,
     "metadata": {},
     "output_type": "execute_result"
    },
    {
     "data": {
      "image/png": "[encoded data removed]",
      "text/plain": [
       "<Figure size 432x288 with 1 Axes>"
      ]
     },
     "metadata": {},
     "output_type": "display_data"
    }
   ],
   "source": [
    "# a = np.random.randint(11, size=50) * 10\n",
    "\n",
    "a = np.array([ 60, 50, 100, 90, 40, 0, 30, 20, 30, 80, 30, 50,  0, 50, 50, 40, 50, 60,\n",
    "               40, 60, 50, 30, 90, 100, 70, 50, 40, 20, 10, 30, 70, 90, 50, 70, 50, 90,\n",
    "               40, 70, 60, 80, 50, 100, 20, 30, 20, 30, 80, 40, 70,  0])\n",
    "\n",
    "sns.countplot(a)"
   ]
  },
  {
   "cell_type": "markdown",
   "metadata": {},
   "source": [
    "Count of \"50\" is 10 which is most nnumber of times so it is the mode.\n",
    "\n",
    "However, one of the problems with the mode is that it is not unique, so it leaves us with problems when we have two or more values that share the highest frequency, such as below:"
   ]
  },
  {
   "cell_type": "code",
   "execution_count": 44,
   "metadata": {},
   "outputs": [
    {
     "data": {
      "text/plain": [
       "<matplotlib.axes._subplots.AxesSubplot at 0x7fcc7f6e3dd8>"
      ]
     },
     "execution_count": 44,
     "metadata": {},
     "output_type": "execute_result"
    },
    {
     "data": {
      "image/png": "[encoded data removed]",
      "text/plain": [
       "<Figure size 432x288 with 1 Axes>"
      ]
     },
     "metadata": {},
     "output_type": "display_data"
    }
   ],
   "source": [
    "b = np.array([ 60, 50, 100, 90, 40, 0, 30, 20, 30, 80, 30, 50,  0, 50, 50, 30, 50, 60,\n",
    "               40, 60, 50, 30, 90, 100, 70, 50, 40, 20, 10, 30, 70, 30, 50, 70, 50, 90,\n",
    "               40, 30, 60, 80, 50, 100, 20, 30, 20, 30, 80, 40, 70,  0])\n",
    "\n",
    "sns.countplot(b)"
   ]
  },
  {
   "cell_type": "markdown",
   "metadata": {},
   "source": [
    "* Mode is very rarely suitable for continuous data, ie data which mostly has non repetitive values\n",
    "* Mode is best suited for categorical values.\n",
    "* Another problem with the mode is that it will not provide us with a very good measure of central tendency when the most common mark is far away from the rest of the data in the data set, as depicted in the diagram below"
   ]
  },
  {
   "cell_type": "code",
   "execution_count": 54,
   "metadata": {},
   "outputs": [
    {
     "data": {
      "text/plain": [
       "<matplotlib.axes._subplots.AxesSubplot at 0x7fcc7c2ae470>"
      ]
     },
     "execution_count": 54,
     "metadata": {},
     "output_type": "execute_result"
    },
    {
     "data": {
      "image/png": "[encoded data removed]",
      "text/plain": [
       "<Figure size 432x288 with 1 Axes>"
      ]
     },
     "metadata": {},
     "output_type": "display_data"
    }
   ],
   "source": [
    "b = np.array([ 60, 0, 100, 20, 0, 0, 30, 20, 30, 80, 30, 50,  0, 10, 50, 30, 50, 60,\n",
    "               40, 60, 0, 30, 10, 10, 70, 0, 0, 20, 10, 30, 70, 30, 50, 0, 50, 10,\n",
    "               40, 30, 60, 80, 0, 10, 20, 30, 20, 30, 10, 40, 70,  0])\n",
    "\n",
    "sns.countplot(b)"
   ]
  },
  {
   "cell_type": "markdown",
   "metadata": {},
   "source": [
    "<b>In the above graph data is mostly concentrated towards 0 to 30. Therefore mode is not the right representative of central distribution above.</b>\n",
    "\n",
    "## Skewed distribution and mean and median\n",
    "\n",
    "Many statistical tests assume that underlying data is normally distributed. An example of normally distributed data is given below"
   ]
  },
  {
   "cell_type": "code",
   "execution_count": 102,
   "metadata": {},
   "outputs": [
    {
     "data": {
      "image/png": "[encoded data removed]",
      "text/plain": [
       "<Figure size 432x288 with 1 Axes>"
      ]
     },
     "metadata": {},
     "output_type": "display_data"
    }
   ],
   "source": [
    "z = np.random.normal(loc = 1.0, scale = 1.0, size = 10)\n",
    "\n",
    "sns.distplot(z);"
   ]
  },
  {
   "cell_type": "markdown",
   "metadata": {},
   "source": [
    "- When you have a normally distributed sample you can use both the mean or the median to measure central tendency.\n",
    "- In any symmetrical distribution the mean, median and mode are equal. \n",
    "- However, in this situation, the mean is widely preferred as the best measure of central tendency because it is the measure that includes all the values in the data set for its calculation, and any change in any of the scores will affect the value of the mean. This is not the case with the median or mode."
   ]
  },
  {
   "cell_type": "code",
   "execution_count": 111,
   "metadata": {},
   "outputs": [
    {
     "name": "stdout",
     "output_type": "stream",
     "text": [
      "Mean 31.4\n",
      "Median  20.0\n"
     ]
    },
    {
     "data": {
      "image/png": "[encoded data removed]",
      "text/plain": [
       "<Figure size 432x288 with 1 Axes>"
      ]
     },
     "metadata": {},
     "output_type": "display_data"
    }
   ],
   "source": [
    "zx = np.array([ 60, 10, 100, 20, 10, 10, 20, 20, 30, 80, 30, 50,  0, 10, 50, 30, 50, 60,\n",
    "               40, 60, 10, 20, 10, 10, 70, 10, 0, 20, 10, 30, 70, 30, 50, 0, 50, 10,\n",
    "               40, 20, 60, 80, 10, 10, 20, 30, 20, 20, 10, 40, 70,  0])\n",
    "\n",
    "sns.countplot(zx);\n",
    "\n",
    "print('Mean', np.mean(zx))\n",
    "print('Median ', np.median(zx))"
   ]
  },
  {
   "cell_type": "markdown",
   "metadata": {},
   "source": [
    "We find that the mean is being dragged in the direct of the skew. In these situations, the median is generally considered to be the best representative of the central location of the data. The more skewed the distribution, the greater the difference between the median and mean, and the greater emphasis should be placed on using the median as opposed to the mean. A classic example of the above right-skewed distribution is income (salary), where higher-earners provide a false representation of the typical income if expressed as a mean and not a median.\n",
    "\n",
    "If dealing with a normal distribution, and tests of normality show that the data is non-normal, it is customary to use the median instead of the mean. However, this is more a rule of thumb than a strict guideline. Sometimes, researchers wish to report the mean of a skewed distribution if the median and mean are not appreciably different (a subjective assessment), and if it allows easier comparisons to previous research to be made.\n",
    "\n",
    "### Summary of when to use the mean, median and mode\n",
    "\n",
    "<table border=\"1\">\n",
    "<tr>\n",
    "    <td>Type Of Variable</td>\n",
    "    <td>Best Measure of Central Tendency</td>\n",
    "</tr>\n",
    "<tr>\n",
    "    <td>Nominal</td>\n",
    "    <td>Mode</td>\n",
    "</tr>\n",
    "<tr>\n",
    "    <td>Ordinal</td>\n",
    "    <td>Median</td>\n",
    "</tr>\n",
    "<tr>\n",
    "    <td>Not Skewed</td>\n",
    "    <td>Mean</td>\n",
    "</tr>\n",
    "<tr>\n",
    "    <td>Skewed</td>\n",
    "    <td>Median</td>\n",
    "</tr>\n",
    "</table>"
   ]
  },
  {
   "cell_type": "markdown",
   "metadata": {},
   "source": [
    "# Mean Deviation"
   ]
  }
 ],
 "metadata": {
  "kernelspec": {
   "display_name": "Python 3",
   "language": "python",
   "name": "python3"
  },
  "language_info": {
   "codemirror_mode": {
    "name": "ipython",
    "version": 3
   },
   "file_extension": ".py",
   "mimetype": "text/x-python",
   "name": "python",
   "nbconvert_exporter": "python",
   "pygments_lexer": "ipython3",
   "version": "3.6.8"
  }
 },
 "nbformat": 4,
 "nbformat_minor": 4
}
